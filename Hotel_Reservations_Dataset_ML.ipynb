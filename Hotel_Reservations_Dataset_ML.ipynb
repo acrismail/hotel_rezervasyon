{
  "nbformat": 4,
  "nbformat_minor": 0,
  "metadata": {
    "colab": {
      "private_outputs": true,
      "provenance": [],
      "authorship_tag": "ABX9TyMHNpTqDFiHgSngejxH8CIO",
      "include_colab_link": true
    },
    "kernelspec": {
      "name": "python3",
      "display_name": "Python 3"
    },
    "language_info": {
      "name": "python"
    },
    "accelerator": "GPU",
    "gpuClass": "standard"
  },
  "cells": [
    {
      "cell_type": "markdown",
      "metadata": {
        "id": "view-in-github",
        "colab_type": "text"
      },
      "source": [
        "<a href=\"https://colab.research.google.com/github/acrismail/hotel_rezervasyon/blob/main/Hotel_Reservations_Dataset_ML.ipynb\" target=\"_parent\"><img src=\"https://colab.research.google.com/assets/colab-badge.svg\" alt=\"Open In Colab\"/></a>"
      ]
    },
    {
      "cell_type": "code",
      "source": [
        "from google.colab import drive\n",
        "drive.mount('/content/drive/')"
      ],
      "metadata": {
        "id": "9wQEdqeyZkdM"
      },
      "execution_count": null,
      "outputs": []
    },
    {
      "cell_type": "markdown",
      "source": [
        "## About Dataset\n",
        "\n",
        "## Context\n",
        "\n",
        "The online hotel reservation channels have dramatically changed booking possibilities and customers’ behavior. A significant number of hotel reservations are called-off due to cancellations or no-shows. The typical reasons for cancellations include change of plans, scheduling conflicts, etc. This is often made easier by the option to do so free of charge or preferably at a low cost which is beneficial to hotel guests but it is a less desirable and possibly revenue-diminishing factor for hotels to deal with.\n",
        "\n",
        "Can you predict if the customer is going to honor the reservation or cancel it ?\n",
        "\n",
        "## Veri Kümesi Hakkında\n",
        "\n",
        "## Bağlam\n",
        "\n",
        "Çevrimiçi otel rezervasyonu kanalları, rezervasyon olanaklarını ve müşterilerin davranışlarını önemli ölçüde değiştirdi. Önemli sayıda otel rezervasyonu, iptaller veya rezervasyonun kullanılmaması nedeniyle iptal edilmektedir. İptallerin tipik nedenleri arasında plan değişiklikleri, program çakışmaları vb. yer alır. Bu, genellikle bunu ücretsiz veya tercihen düşük bir maliyetle yapma seçeneğiyle kolaylaştırılır, bu da otel misafirleri için faydalıdır, ancak daha az arzu edilir ve muhtemelen gelir başa çıkmak için oteller için azalan faktör.\n",
        "\n",
        "Müşterinin rezervasyonu kabul edip etmeyeceğini veya iptal edip etmeyeceğini tahmin edebilir misiniz?"
      ],
      "metadata": {
        "id": "ajRd2i8RY1_L"
      }
    },
    {
      "cell_type": "markdown",
      "source": [
        "## Data Information\n",
        "* Idea\n",
        "\n",
        "The online hotel reservation channels have dramatically changed booking possibilities and customers’ behavior. A significant number of hotel reservations are called-off due to cancellations or no-shows. The typical reasons for cancellations include change of plans, scheduling conflicts, etc. This is often made easier by the option to do so free of charge or preferably at a low cost which is beneficial to hotel guests but it is a less desirable and possibly revenue diminishing factor for hotels to deal with.\n",
        "\n",
        "## Column Detail\n",
        "\n",
        "## Features\n",
        "\n",
        "* Booking_ID  :  unique identifier of each booking\n",
        "* no_of_adults  :  Number of adults\n",
        "* no_of_children  :  Number of Children\n",
        "* no_of_weekend_nights  :  Number of weekend nights (Saturday or Sunday) the guest stayed or booked to stay at the hotel\n",
        "* no_of_week_nights  :  Number of week nights (Monday to Friday) the guest stayed or booked to stay at the hotel\n",
        "* type_of_meal_plan  :  Type of meal plan booked by the customer:\n",
        "Mean Plan 1\n",
        "Mean Plan 2\n",
        "Mean Plan 3\n",
        "Not Selected\n",
        "\n",
        "* required_car_parking_space  :  Does the customer require a car parking space?\n",
        "0 : No\n",
        "1 : Yes\n",
        "\n",
        "* room_type_reserved  :  Type of room reserved by the customer. The values are ciphered (encoded) by INN Hotels.\n",
        "Room Type 1\n",
        "Room Type 2\n",
        "Room Type 3\n",
        "Room Type 4\n",
        "Room Type 5\n",
        "Room Type 6\n",
        "Room Type 7\n",
        "\n",
        "* lead_time  :  Number of days between the date of booking and the arrival date\n",
        "* arrival_year  :  Year of arrival date\n",
        "* arrival_month  :  Month of arrival date\n",
        "* arrival_date  :  Date of the month\n",
        "\n",
        "* market_segment_type  :  Market segment designation.\n",
        "* repeated_guest  :  Is the customer a repeated guest?\n",
        "0 : No\n",
        "1 : Yes\n",
        "* no_of_previous_cancellations  :  Number of previous bookings that were canceled by the customer prior to the current booking\n",
        "* no_of_previous_bookings_not_canceled  :  Number of previous bookings not canceled by the customer prior to the current booking\n",
        "* avg_price_per_room  :  Average price per day of the reservation; prices of the rooms are dynamic. (in euros)\n",
        "* no_of_special_requests  :  Total number of special requests made by the customer (e.g. high floor, view from the room, etc)\n",
        "* Target\n",
        "* booking_status  :  Flag indicating if the booking was canceled or not.\n",
        "\n",
        "Cancelled\n",
        "\n",
        "Not_Cancelled\n",
        "\n",
        "\n",
        "## Veri bilgisi\n",
        "* Fikir\n",
        "\n",
        "Çevrimiçi otel rezervasyonu kanalları, rezervasyon olanaklarını ve müşterilerin davranışlarını önemli ölçüde değiştirdi. Önemli sayıda otel rezervasyonu, iptaller veya rezervasyonun kullanılmaması nedeniyle iptal edilmektedir. İptallerin tipik nedenleri arasında plan değişiklikleri, program çakışmaları vb. yer alır. Bu, genellikle bunu ücretsiz veya tercihen düşük bir maliyetle yapma seçeneğiyle kolaylaştırılır, bu da otel misafirleri için faydalıdır, ancak daha az arzu edilir ve muhtemelen gelir otellerin uğraşması gereken azalan faktör.\n",
        "\n",
        "## Sütun Detayı\n",
        "\n",
        "## Özellikler\n",
        "\n",
        "* Booking_ID : her rezervasyonun benzersiz tanımlayıcısı\n",
        "* no_of_adults : Yetişkin sayısı\n",
        "* no_of_children : Çocuk Sayısı\n",
        "* no_of_weekend_nights : Konuğun otelde kaldığı veya kalmak için rezervasyon yaptığı hafta sonu gece sayısı (Cumartesi veya Pazar)\n",
        "* no_of_week_nights : Konuğun otelde kaldığı veya kalmak için rezervasyon yaptığı hafta içi gece sayısı (Pazartesiden Cumaya)\n",
        "* type_of_meal_plan : Müşteri tarafından rezerve edilen yemek planı türü:\n",
        "Ortalama Plan 1\n",
        "Ortalama Plan 2\n",
        "Ortalama Plan 3\n",
        "Seçili değil\n",
        "\n",
        "* gerekli_car_parking_space : Müşterinin bir otopark alanına ihtiyacı var mı?\n",
        "0 : Hayır\n",
        "1 : Evet\n",
        "\n",
        "* room_type_reserved : Müşteri tarafından rezerve edilen oda tipi. Değerler, INN Hotels tarafından şifrelenir (kodlanır).\n",
        "Oda Tipi 1\n",
        "Oda Tipi 2\n",
        "Oda Tipi 3\n",
        "Oda Tipi 4\n",
        "Oda Tipi 5\n",
        "Oda Tipi 6\n",
        "Oda Tipi 7\n",
        "\n",
        "* lead_time : Rezervasyon tarihi ile varış tarihi arasındaki gün sayısı\n",
        "* varış_yılı : Varış yılı tarihi\n",
        "* varış_ay : varış tarihinin ayı\n",
        "* varış_tarihi : Ayın tarihi\n",
        "\n",
        "* market_segment_type : Pazar segmenti tanımı.\n",
        "* tekrarlanan_guest : Müşteri tekrarlanan bir misafir mi?\n",
        "0 : Hayır\n",
        "1 : Evet\n",
        "* no_of_previous_cancellations : Mevcut rezervasyondan önce müşteri tarafından iptal edilen önceki rezervasyonların sayısı\n",
        "* no_of_previous_bookings_not_canceled : Mevcut rezervasyondan önce müşteri tarafından iptal edilmeyen önceki rezervasyonların sayısı\n",
        "* avg_price_per_room : Rezervasyonun günlük ortalama fiyatı; oda fiyatları dinamiktir. (euro cinsinden)\n",
        "* no_of_special_requests : Müşteri tarafından yapılan toplam özel istek sayısı (ör. yüksek kat, odadan manzara vb.)\n",
        "* Hedef\n",
        "* booking_status : Rezervasyonun iptal edilip edilmediğini gösteren bayrak.\n",
        "\n",
        "İptal edildi\n",
        "\n",
        "İptal Edilmedi"
      ],
      "metadata": {
        "id": "B8MjP5CvYwRU"
      }
    },
    {
      "cell_type": "markdown",
      "source": [
        "## Analysis Content \n",
        "\n",
        "* 1.[Python Libraries](#1)\n",
        "* 2.[data loading](#2)\n",
        "* 3.[EDA](#3)\n",
        "* 4.[data Preprocessing](#4)\n",
        "* 5.[Modelling](#5) \n",
        "* 6.[Random Forest](#6) "
      ],
      "metadata": {
        "id": "RS4SOlBQY71O"
      }
    },
    {
      "cell_type": "markdown",
      "source": [
        "# <a id=\"1\"></a>\n",
        "## 1.Python Libraries"
      ],
      "metadata": {
        "id": "NdUETfr5ZOgt"
      }
    },
    {
      "cell_type": "code",
      "source": [
        "#Let's load the relevant libraries (İlgili kütüphaneleri yükleyelim);\n",
        "\n",
        "import numpy as np \n",
        "import pandas as pd\n",
        "from sklearn.model_selection import train_test_split,GridSearchCV,RandomizedSearchCV\n",
        "from sklearn.metrics import mean_squared_error,r2_score\n",
        "import matplotlib.pyplot as plt\n",
        "import seaborn as sns\n",
        "import plotly.express as px\n",
        "from sklearn.preprocessing import scale\n",
        "from sklearn.preprocessing import StandardScaler\n",
        "from sklearn import model_selection\n",
        "from sklearn.linear_model import Ridge,Lasso,RidgeCV,LassoCV,ElasticNet,ElasticNetCV,LinearRegression\n",
        "from sklearn.tree import DecisionTreeRegressor\n",
        "from sklearn.neighbors import KNeighborsRegressor\n",
        "from sklearn.neural_network import MLPRegressor\n",
        "from sklearn.ensemble import RandomForestRegressor\n",
        "from sklearn.ensemble import GradientBoostingRegressor\n",
        "from sklearn.ensemble import AdaBoostRegressor\n",
        "from sklearn import neighbors\n",
        "from sklearn.svm import SVR\n",
        "import warnings\n",
        "warnings.filterwarnings(\"ignore\")"
      ],
      "metadata": {
        "id": "6N03gsEPZVBB"
      },
      "execution_count": null,
      "outputs": []
    },
    {
      "cell_type": "markdown",
      "source": [
        "<a id=\"2\"></a>\n",
        "## 2.Data Loading"
      ],
      "metadata": {
        "id": "ijvaXFp4bxIQ"
      }
    },
    {
      "cell_type": "code",
      "source": [
        "df=pd.read_csv(\"/content/Hotel Reservations.csv\")\n",
        "df.head()"
      ],
      "metadata": {
        "id": "RnS2o2Kfb07N"
      },
      "execution_count": null,
      "outputs": []
    },
    {
      "cell_type": "code",
      "source": [
        "df.tail()"
      ],
      "metadata": {
        "id": "PNuU7HqFcRg0"
      },
      "execution_count": null,
      "outputs": []
    },
    {
      "cell_type": "markdown",
      "source": [
        "<a id=\"3\"></a>\n",
        "## 3.EDA"
      ],
      "metadata": {
        "id": "sUNNrt52cW99"
      }
    },
    {
      "cell_type": "code",
      "source": [
        "df.shape"
      ],
      "metadata": {
        "id": "a-Ns6VHrcTxs"
      },
      "execution_count": null,
      "outputs": []
    },
    {
      "cell_type": "code",
      "source": [
        "# Our dataset consists of 36275 observations and 19 attributes\n",
        "\n",
        "# Verisetimiz 36275 gözlem ve 19 öznitelikten oluşmaktadır"
      ],
      "metadata": {
        "id": "fUE6WtkHcZ6-"
      },
      "execution_count": null,
      "outputs": []
    },
    {
      "cell_type": "code",
      "source": [
        "# columns\n",
        "\n",
        "df.columns"
      ],
      "metadata": {
        "id": "JGM3GF0Hcc40"
      },
      "execution_count": null,
      "outputs": []
    },
    {
      "cell_type": "code",
      "source": [
        "# Booking_ID doesn't make any sense for data, let's delete it\n",
        "\n",
        "#Booking_ID veri için herhangi bir anlam ifade etmiyor,silelim"
      ],
      "metadata": {
        "id": "zn60syrYcf0o"
      },
      "execution_count": null,
      "outputs": []
    },
    {
      "cell_type": "code",
      "source": [
        "df.drop(\"Booking_ID\",axis=1,inplace=True)"
      ],
      "metadata": {
        "id": "ydC7Sy5rcjqX"
      },
      "execution_count": null,
      "outputs": []
    },
    {
      "cell_type": "code",
      "source": [
        "# structural information\n",
        "\n",
        "df.info()"
      ],
      "metadata": {
        "id": "_JfrwFYIcmZP"
      },
      "execution_count": null,
      "outputs": []
    },
    {
      "cell_type": "markdown",
      "source": [
        "* There is no missing value in our dataset, it consists of 14 numeric and 4 categorical variables\n",
        "\n",
        "*  Verisetimizde eksik değer yok,14 sayısal ve 4 kategorik değişkenden oluşuyor"
      ],
      "metadata": {
        "id": "s-v8Fk5ncvHp"
      }
    },
    {
      "cell_type": "code",
      "source": [
        "# describe\n",
        "\n",
        "df.describe().T"
      ],
      "metadata": {
        "id": "NE1hPcDjco97"
      },
      "execution_count": null,
      "outputs": []
    },
    {
      "cell_type": "code",
      "source": [
        "# unique value counts\n",
        "\n",
        "df.nunique()"
      ],
      "metadata": {
        "id": "YP2pc9qJcx60"
      },
      "execution_count": null,
      "outputs": []
    },
    {
      "cell_type": "code",
      "source": [
        "for i in df.select_dtypes(\"object\"):\n",
        "    print(df[i].value_counts())\n",
        "    print(\"*\"*30)"
      ],
      "metadata": {
        "id": "bQqXUYl4c1XD"
      },
      "execution_count": null,
      "outputs": []
    },
    {
      "cell_type": "code",
      "source": [
        "# the daily average highest-lowest value of the reservation"
      ],
      "metadata": {
        "id": "9V1yiKD7c4iF"
      },
      "execution_count": null,
      "outputs": []
    },
    {
      "cell_type": "code",
      "source": [
        "df.sort_values(\"avg_price_per_room\",ascending=False).head(20)\n"
      ],
      "metadata": {
        "id": "0cdgem9Xc88C"
      },
      "execution_count": null,
      "outputs": []
    },
    {
      "cell_type": "code",
      "source": [
        "df.sort_values(\"avg_price_per_room\",ascending=True).head(20)"
      ],
      "metadata": {
        "id": "yu04WHdYdAkR"
      },
      "execution_count": null,
      "outputs": []
    },
    {
      "cell_type": "code",
      "source": [
        "df.groupby(\"booking_status\")[\"avg_price_per_room\"].describe().T"
      ],
      "metadata": {
        "id": "5Q6FyM1vdEMC"
      },
      "execution_count": null,
      "outputs": []
    },
    {
      "cell_type": "markdown",
      "source": [
        "<a id=\"4\"></a>\n",
        "## 4.Data Preprocessing"
      ],
      "metadata": {
        "id": "31paPDA6dLwQ"
      }
    },
    {
      "cell_type": "code",
      "source": [
        "# missing values query\n",
        "\n",
        "df.isna().sum()"
      ],
      "metadata": {
        "id": "DPltbBEIdG57"
      },
      "execution_count": null,
      "outputs": []
    },
    {
      "cell_type": "code",
      "source": [
        "# there are no missing values ​​in our dataset\n",
        "\n",
        "# verisetimizde eksik değer yok"
      ],
      "metadata": {
        "id": "xoCbimqLdOwS"
      },
      "execution_count": null,
      "outputs": []
    },
    {
      "cell_type": "code",
      "source": [
        "# create a list for numeric and categorical variables\n",
        "\n",
        "# sayısal ve kategorik değişkenler için birer liste oluşturalım"
      ],
      "metadata": {
        "id": "1tieWDS0dRww"
      },
      "execution_count": null,
      "outputs": []
    },
    {
      "cell_type": "code",
      "source": [
        "cat_list=[]\n",
        "num_list=[]\n",
        "\n",
        "for i in df.columns:\n",
        "    unique_val=len(df[i].unique())\n",
        "    \n",
        "    if unique_val<32:\n",
        "        cat_list.append(i)\n",
        "    else:\n",
        "        num_list.append(i)"
      ],
      "metadata": {
        "id": "6mT21t7DdYuT"
      },
      "execution_count": null,
      "outputs": []
    },
    {
      "cell_type": "code",
      "source": [
        "cat_list"
      ],
      "metadata": {
        "id": "eTiZ4NMxdevC"
      },
      "execution_count": null,
      "outputs": []
    },
    {
      "cell_type": "code",
      "source": [
        "num_list"
      ],
      "metadata": {
        "id": "WN6NHnVjdgHs"
      },
      "execution_count": null,
      "outputs": []
    },
    {
      "cell_type": "code",
      "source": [
        "df.loc[:,num_list].describe([0.05,0.1,0.25,0.35,0.5,0.65,0.75,0.9,0.95]).T"
      ],
      "metadata": {
        "id": "Qbafdiq3dhb6"
      },
      "execution_count": null,
      "outputs": []
    },
    {
      "cell_type": "code",
      "source": [
        "# look at the distributions of numeric variables\n",
        "\n",
        "# sayısal değişkenlerin dağılımlarına bakalım"
      ],
      "metadata": {
        "id": "6XUj8Fkzdl8p"
      },
      "execution_count": null,
      "outputs": []
    },
    {
      "cell_type": "code",
      "source": [
        "k=1\n",
        "plt.figure(figsize=(12,12))\n",
        "plt.tight_layout()\n",
        "plt.suptitle(\"distribution of numerical values\")\n",
        "\n",
        "\n",
        "for i in df.loc[:,num_list]:\n",
        "    plt.subplot(2,2,k)    \n",
        "    sns.distplot(df[i])\n",
        "    plt.title(i)\n",
        "    k+=1"
      ],
      "metadata": {
        "id": "1VWswkvDdqMd"
      },
      "execution_count": null,
      "outputs": []
    },
    {
      "cell_type": "code",
      "source": [
        "# let's make a copy of our dataset and remove the outliers"
      ],
      "metadata": {
        "id": "oIjprVkfdsWo"
      },
      "execution_count": null,
      "outputs": []
    },
    {
      "cell_type": "code",
      "source": [
        "df_out=df.copy()"
      ],
      "metadata": {
        "id": "lfPby45Ud2Ni"
      },
      "execution_count": null,
      "outputs": []
    },
    {
      "cell_type": "code",
      "source": [
        "for i in df_out.loc[:,num_list]:\n",
        "    Q1 = df_out[i].quantile(0.1)\n",
        "    Q3 = df_out[i].quantile(0.9)\n",
        "    IQR = Q3-Q1\n",
        "    up = Q3 + 1.5*IQR\n",
        "    low = Q1 - 1.5*IQR\n",
        "\n",
        "    if df_out[(df_out[i] > up) | (df_out[i] < low)].any(axis=None):\n",
        "        print(i,\"yes\")\n",
        "    else:\n",
        "        print(i, \"no\")"
      ],
      "metadata": {
        "id": "wIbL7n3Rd4YC"
      },
      "execution_count": null,
      "outputs": []
    },
    {
      "cell_type": "code",
      "source": [
        "# aykırı değerlere erişme;\n",
        "def outliers_df(df_out):\n",
        "    q1,q3=np.percentile(df_out,[10,90])\n",
        "    ıqr=q3-q1\n",
        "    low,high=q1-1.5*(ıqr),q3+1.5*(ıqr)\n",
        "    outliers_df=[i for i in df_out if i<low or i>high]\n",
        "    return outliers_df"
      ],
      "metadata": {
        "id": "7LeL7FtCeHpy"
      },
      "execution_count": null,
      "outputs": []
    },
    {
      "cell_type": "code",
      "source": [
        "outliers_df(df_out[\"no_of_previous_bookings_not_canceled\"])"
      ],
      "metadata": {
        "id": "FrDB_AF1e9e5"
      },
      "execution_count": null,
      "outputs": []
    },
    {
      "cell_type": "code",
      "source": [
        "outliers_df(df_out[\"avg_price_per_room\"])"
      ],
      "metadata": {
        "id": "Bi8IsmZwfIKJ"
      },
      "execution_count": null,
      "outputs": []
    },
    {
      "cell_type": "code",
      "source": [
        "# Let's remove outliers for avg_price_per_room\n",
        "# avg_price_per_room  için aykırı değerleri giderelim"
      ],
      "metadata": {
        "id": "AGTSPdtTfLwz"
      },
      "execution_count": null,
      "outputs": []
    },
    {
      "cell_type": "code",
      "source": [
        "# remove outliers;\n",
        "for i in df_out.loc[:,[\"avg_price_per_room\"]]:\n",
        "    \n",
        "    Q1 = df_out[i].quantile(0.1)\n",
        "    Q3 = df_out[i].quantile(0.9)\n",
        "    IQR = Q3 - Q1\n",
        "    up_lim=Q3+1.5 *IQR\n",
        "    low_lim=Q1-1.5 *IQR\n",
        "    \n",
        "    df_out.loc[df_out[i]>up_lim,i]=up_lim\n",
        "    df_out.loc[df_out[i]<low_lim,i]=low_lim"
      ],
      "metadata": {
        "id": "fpiDvsKufPyQ"
      },
      "execution_count": null,
      "outputs": []
    },
    {
      "cell_type": "code",
      "source": [
        "df_out.loc[:,num_list].describe([0.05,0.1,0.25,0.35,0.5,0.65,0.75,0.9,0.95]).T"
      ],
      "metadata": {
        "id": "PyxA7jbvfdjO"
      },
      "execution_count": null,
      "outputs": []
    },
    {
      "cell_type": "markdown",
      "source": [
        "### Data Visualize"
      ],
      "metadata": {
        "id": "jA3AKaE_fxs6"
      }
    },
    {
      "cell_type": "code",
      "source": [
        "# categorical analysis;\n",
        "\n",
        "for i in cat_list:\n",
        "    \n",
        "    plt.figure(figsize=(13,13))\n",
        "    sns.countplot(x=i,data=df.loc[:,cat_list])\n",
        "    plt.title(i)"
      ],
      "metadata": {
        "id": "aMtRw9Vmfinp"
      },
      "execution_count": null,
      "outputs": []
    },
    {
      "cell_type": "code",
      "source": [
        "# numerical analysis;\n",
        "\n",
        "sns.pairplot(df.loc[:,num_list])\n",
        "plt.show()"
      ],
      "metadata": {
        "id": "bZ6-yrVbf1vV"
      },
      "execution_count": null,
      "outputs": []
    },
    {
      "cell_type": "code",
      "source": [
        "# histogram;\n",
        "\n",
        "df.hist(figsize=(9,9));"
      ],
      "metadata": {
        "id": "Pv1K0tCif73l"
      },
      "execution_count": null,
      "outputs": []
    },
    {
      "cell_type": "code",
      "source": [
        "plt.figure(figsize=(15,15))\n",
        "plt.subplot(3,3,1)\n",
        "sns.scatterplot(x ='lead_time',y ='no_of_previous_bookings_not_canceled',hue=\"booking_status\",data = df)\n",
        "plt.subplot(3,3,2)\n",
        "sns.scatterplot(x=\"no_of_previous_bookings_not_canceled\",y=\"avg_price_per_room\",hue=\"booking_status\",data=df)\n",
        "plt.subplot(3,3,3)\n",
        "sns.scatterplot(x=\"lead_time\",y=\"avg_price_per_room\",hue=\"booking_status\",data=df)\n",
        "plt.subplot(3,3,4)\n",
        "sns.boxplot(x=\"type_of_meal_plan\",y=\"avg_price_per_room\",data=df)\n",
        "plt.subplot(3,3,5)\n",
        "sns.barplot(x=\"room_type_reserved\",y=\"avg_price_per_room\",data=df)\n",
        "plt.subplot(3,3,6)\n",
        "sns.barplot(x=\"room_type_reserved\",y=\"lead_time\",data=df)\n",
        "plt.subplot(3,3,7)\n",
        "sns.barplot(x=\"arrival_year\",y=\"lead_time\",hue=\"booking_status\",data=df)\n",
        "plt.subplot(3,3,8)\n",
        "sns.barplot(x=\"market_segment_type\",y=\"avg_price_per_room\",data=df)\n",
        "plt.subplot(3,3,9)\n",
        "sns.barplot(x=\"arrival_year\",y=\"avg_price_per_room\",hue=\"booking_status\",data=df)\n",
        "plt.show()"
      ],
      "metadata": {
        "id": "OCZR4fNCgA2a"
      },
      "execution_count": null,
      "outputs": []
    },
    {
      "cell_type": "markdown",
      "source": [
        "### Encoding"
      ],
      "metadata": {
        "id": "q0q1VpJ6gOIk"
      }
    },
    {
      "cell_type": "code",
      "source": [
        "df[\"type_of_meal_plan\"] = df[\"type_of_meal_plan\"].replace({\"Meal Plan 1\":0,\"Not Selected\":1,\n",
        "                                                          \"Meal Plan 2\":2,\"Meal Plan 3\":3})\n",
        "\n",
        "df[\"room_type_reserved\"] = df[\"room_type_reserved\"].replace({\"Room_Type 1\":0,\"Room_Type 2\":1,\n",
        "                                                          \"Room_Type 3\":2,\"Room_Type 4\":3,\n",
        "                                                            \"Room_Type 5\":4,\"Room_Type 6\":5,\n",
        "                                                            \"Room_Type 7\":6})\n",
        "\n",
        "df[\"market_segment_type\"] = df[\"market_segment_type\"].replace({\"Online\":0,\"Offline\":1,\n",
        "                                                          \"Corporate\":2,\"Complementary\":3,\n",
        "                                                              \"Aviation\":4})\n",
        "\n",
        "df[\"booking_status\"] = df[\"booking_status\"].replace({\"Not_Canceled\":0,\"Canceled\":1})"
      ],
      "metadata": {
        "id": "8pRQz-vzgIqU"
      },
      "execution_count": null,
      "outputs": []
    },
    {
      "cell_type": "code",
      "source": [
        "df.head()"
      ],
      "metadata": {
        "id": "R1JhjISkgbXZ"
      },
      "execution_count": null,
      "outputs": []
    },
    {
      "cell_type": "code",
      "source": [
        "# df_out\n",
        "\n",
        "df_out[\"type_of_meal_plan\"]=df_out[\"type_of_meal_plan\"].replace({\"Meal Plan 1\":0,\"Not Selected\":1,\n",
        "                                                          \"Meal Plan 2\":2,\"Meal Plan 3\":3})\n",
        "\n",
        "df_out[\"room_type_reserved\"]=df_out[\"room_type_reserved\"].replace({\"Room_Type 1\":0,\"Room_Type 2\":1,\n",
        "                                                          \"Room_Type 3\":2,\"Room_Type 4\":3,\n",
        "                                                            \"Room_Type 5\":4,\"Room_Type 6\":5,\n",
        "                                                            \"Room_Type 7\":6})\n",
        "\n",
        "df_out[\"market_segment_type\"]=df_out[\"market_segment_type\"].replace({\"Online\":0,\"Offline\":1,\n",
        "                                                          \"Corporate\":2,\"Complementary\":3,\n",
        "                                                              \"Aviation\":4})\n",
        "\n",
        "df_out[\"booking_status\"]=df_out[\"booking_status\"].replace({\"Not_Canceled\":0,\"Canceled\":1})"
      ],
      "metadata": {
        "id": "-hhz6k9pgei8"
      },
      "execution_count": null,
      "outputs": []
    },
    {
      "cell_type": "markdown",
      "source": [
        "### Corelation Analysis"
      ],
      "metadata": {
        "id": "sQLWS8-lgmSn"
      }
    },
    {
      "cell_type": "code",
      "source": [
        "plt.figure(figsize=(12,12))\n",
        "sns.heatmap(df.corr(),annot=True,linewidths=0.7,fmt=\".2f\",cmap=\"coolwarm\")\n",
        "plt.show()"
      ],
      "metadata": {
        "id": "3wayEUsJgjLI"
      },
      "execution_count": null,
      "outputs": []
    },
    {
      "cell_type": "code",
      "source": [
        "# no high correlation relationship in our dataset\n",
        "# verisetimizde yüksek korelasyon ilişkisi yok"
      ],
      "metadata": {
        "id": "Rr5Z85Qigpr1"
      },
      "execution_count": null,
      "outputs": []
    },
    {
      "cell_type": "code",
      "source": [
        "cor=df.corr()[\"booking_status\"].sort_values(ascending=False)\n",
        "pd.DataFrame({\"column\":cor.index,\"Correlation with booking_status\":cor.values})\n"
      ],
      "metadata": {
        "id": "7NxalOG1g49E"
      },
      "execution_count": null,
      "outputs": []
    },
    {
      "cell_type": "code",
      "source": [
        "df.corr()[\"booking_status\"].sort_values().plot(kind=\"bar\");"
      ],
      "metadata": {
        "id": "1jR98TEKg9_g"
      },
      "execution_count": null,
      "outputs": []
    },
    {
      "cell_type": "markdown",
      "source": [
        "<a id=\"5\"></a>\n",
        "## 5.Modelling"
      ],
      "metadata": {
        "id": "gvcGCuMShIvj"
      }
    },
    {
      "cell_type": "code",
      "source": [
        "X=df.drop(\"booking_status\",axis=1)   \n",
        "y=df[\"booking_status\"] \n"
      ],
      "metadata": {
        "id": "cWVy6e7thCt1"
      },
      "execution_count": null,
      "outputs": []
    },
    {
      "cell_type": "code",
      "source": [
        "# train-test split;\n",
        "\n",
        "X_train,X_test,y_train,y_test=train_test_split(X,y,test_size=0.25,random_state=0)\n"
      ],
      "metadata": {
        "id": "zgMxvKgthMtv"
      },
      "execution_count": null,
      "outputs": []
    },
    {
      "cell_type": "code",
      "source": [
        "!pip install catboost"
      ],
      "metadata": {
        "id": "xGMOH8N6hQQa"
      },
      "execution_count": null,
      "outputs": []
    },
    {
      "cell_type": "code",
      "source": [
        "!pip install lightgbm\n"
      ],
      "metadata": {
        "id": "1_WcPq1uhTG3"
      },
      "execution_count": null,
      "outputs": []
    },
    {
      "cell_type": "code",
      "source": [
        "!pip install xgboost"
      ],
      "metadata": {
        "id": "CihJ0kwnhXBB"
      },
      "execution_count": null,
      "outputs": []
    },
    {
      "cell_type": "code",
      "source": [
        "from xgboost import XGBRegressor\n",
        "from catboost import CatBoostRegressor\n",
        "from lightgbm import LGBMRegressor"
      ],
      "metadata": {
        "id": "YSlUFp2qhboN"
      },
      "execution_count": null,
      "outputs": []
    },
    {
      "cell_type": "code",
      "source": [
        "!pip install --pre pycaret"
      ],
      "metadata": {
        "id": "OKtkAIoKk_cL"
      },
      "execution_count": null,
      "outputs": []
    },
    {
      "cell_type": "code",
      "source": [
        "!pip install pycaret"
      ],
      "metadata": {
        "id": "GmHMhUuBljMz"
      },
      "execution_count": null,
      "outputs": []
    },
    {
      "cell_type": "code",
      "source": [
        "from pycaret.regression import *"
      ],
      "metadata": {
        "id": "vxZsYAZclB3h"
      },
      "execution_count": null,
      "outputs": []
    },
    {
      "cell_type": "code",
      "source": [
        "from pycaret.regression import *\n",
        "clf1 = setup(data = df, target = 'booking_status')"
      ],
      "metadata": {
        "id": "r1Zsi0aHmV4A"
      },
      "execution_count": null,
      "outputs": []
    },
    {
      "cell_type": "code",
      "source": [
        "best = compare_models()"
      ],
      "metadata": {
        "id": "HicWgBWZo8bz"
      },
      "execution_count": null,
      "outputs": []
    },
    {
      "cell_type": "markdown",
      "source": [
        "<a id=\"6\"></a>\n",
        "## 6.RandomForest"
      ],
      "metadata": {
        "id": "SAExEjxnwBLZ"
      }
    },
    {
      "cell_type": "code",
      "source": [
        "rf = create_model('rf')"
      ],
      "metadata": {
        "id": "M__iJsSTrI0L"
      },
      "execution_count": null,
      "outputs": []
    },
    {
      "cell_type": "code",
      "source": [
        "rf=RandomForestRegressor().fit(X_train,y_train)"
      ],
      "metadata": {
        "id": "XeE1aXCSrA8B"
      },
      "execution_count": null,
      "outputs": []
    },
    {
      "cell_type": "code",
      "source": [
        "r2_score?"
      ],
      "metadata": {
        "id": "nCadAFBdvNO8"
      },
      "execution_count": null,
      "outputs": []
    },
    {
      "cell_type": "code",
      "source": [
        "y_pred=rf.predict(X_test)"
      ],
      "metadata": {
        "id": "RDuCKtFRu0xc"
      },
      "execution_count": null,
      "outputs": []
    },
    {
      "cell_type": "code",
      "source": [
        "r2_score(y_test,y_pred)"
      ],
      "metadata": {
        "id": "X63fAogXvkuE"
      },
      "execution_count": null,
      "outputs": []
    },
    {
      "cell_type": "code",
      "source": [
        "rf?"
      ],
      "metadata": {
        "id": "CUf8ic3AwqiZ"
      },
      "execution_count": null,
      "outputs": []
    },
    {
      "cell_type": "code",
      "source": [
        "#hypropt"
      ],
      "metadata": {
        "id": "ylQAypvhvvA0"
      },
      "execution_count": null,
      "outputs": []
    },
    {
      "cell_type": "code",
      "source": [
        "!pip install optuna\n"
      ],
      "metadata": {
        "id": "oHrn1WE23Dik"
      },
      "execution_count": null,
      "outputs": []
    },
    {
      "cell_type": "code",
      "source": [
        "import optuna\n",
        "from optuna import Trial,visualization,trial\n",
        "from optuna.samplers import TPESampler"
      ],
      "metadata": {
        "id": "pZPz6Wgh4D9j"
      },
      "execution_count": null,
      "outputs": []
    },
    {
      "cell_type": "code",
      "source": [
        "def return_score(param):\n",
        "    model=RandomForestRegressor(**param).fit(X_train,y_train)\n",
        "    y_pred=model.predict(X_test)\n",
        "    acc=r2_score(y_test,y_pred)\n",
        "    return acc"
      ],
      "metadata": {
        "id": "i6v8m94r4IrV"
      },
      "execution_count": null,
      "outputs": []
    },
    {
      "cell_type": "code",
      "source": [
        "def objective(trial):\n",
        "    param={\n",
        "        \"n_estimators\":trial.suggest_int(\"n_estimators\",50,1000),\n",
        "        \"max_depth\":trial.suggest_int(\"max_depth\",2,15),\n",
        "        \"min_samples_split\":trial.suggest_int(\"min_samples_split\",2,12),\n",
        "        \"min_samples_leaf\":trial.suggest_int(\"min_samples_leaf\",2,15),\n",
        "\n",
        "                \n",
        "\n",
        "    }\n",
        "    return(return_score(param))"
      ],
      "metadata": {
        "id": "IRET6UQ04dqo"
      },
      "execution_count": null,
      "outputs": []
    },
    {
      "cell_type": "code",
      "source": [
        "#study=optuna.create_study(direction=\"maximize\")\n",
        "#study.optimize(objective,n_trials=300)"
      ],
      "metadata": {
        "id": "4MXAzn7l4982"
      },
      "execution_count": null,
      "outputs": []
    },
    {
      "cell_type": "code",
      "source": [
        "# başarı oranı fazla değişmedi...\n",
        "# success rate hasn't changed much..."
      ],
      "metadata": {
        "id": "tBXzuCvL5D4U"
      },
      "execution_count": null,
      "outputs": []
    },
    {
      "cell_type": "code",
      "source": [],
      "metadata": {
        "id": "7NZ78BGLMjXI"
      },
      "execution_count": null,
      "outputs": []
    }
  ]
}